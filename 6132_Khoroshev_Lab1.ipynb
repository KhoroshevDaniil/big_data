{
 "cells": [
  {
   "cell_type": "code",
   "execution_count": 1,
   "id": "3d4d6d46-1fa8-44f0-9f89-1893bdb80910",
   "metadata": {},
   "outputs": [],
   "source": [
    "from pyspark import SparkContext, SparkConf \n",
    "from pyspark.sql import SparkSession\n",
    "import pyspark.sql as sql"
   ]
  },
  {
   "cell_type": "code",
   "execution_count": 2,
   "id": "433c85c7-b74b-4840-96a6-4424d0e2f0f2",
   "metadata": {},
   "outputs": [],
   "source": [
    "conf = SparkConf().setAppName(\"6132_Khoroshev_Lab1\").setMaster('yarn')"
   ]
  },
  {
   "cell_type": "code",
   "execution_count": 3,
   "id": "c675af9d-4a5a-43b8-b7a4-7784805faa9b",
   "metadata": {},
   "outputs": [],
   "source": [
    "sc = SparkContext(conf=conf)\n",
    "spark = SparkSession(sc)"
   ]
  },
  {
   "cell_type": "code",
   "execution_count": 6,
   "id": "6133a586-b197-42e5-b14b-1fa0a4171b09",
   "metadata": {},
   "outputs": [],
   "source": [
    "tripData = spark.read\\\n",
    ".option(\"header\", True)\\\n",
    ".option(\"inferSchema\", True)\\\n",
    ".option(\"timestampFormat\", 'M/d/y H:m')\\\n",
    ".csv(\"trips.csv\")"
   ]
  },
  {
   "cell_type": "code",
   "execution_count": 10,
   "id": "0cfd46cb-963e-42cd-9d2a-ead15cc2749f",
   "metadata": {},
   "outputs": [
    {
     "name": "stdout",
     "output_type": "stream",
     "text": [
      "root\n",
      " |-- id: integer (nullable = true)\n",
      " |-- duration: integer (nullable = true)\n",
      " |-- start_date: timestamp (nullable = true)\n",
      " |-- start_station_name: string (nullable = true)\n",
      " |-- start_station_id: integer (nullable = true)\n",
      " |-- end_date: timestamp (nullable = true)\n",
      " |-- end_station_name: string (nullable = true)\n",
      " |-- end_station_id: integer (nullable = true)\n",
      " |-- bike_id: integer (nullable = true)\n",
      " |-- subscription_type: string (nullable = true)\n",
      " |-- zip_code: string (nullable = true)\n",
      "\n"
     ]
    }
   ],
   "source": [
    "tripData.printSchema()"
   ]
  },
  {
   "cell_type": "code",
   "execution_count": 8,
   "id": "9e38d0c8-756c-450b-ba99-f149c8c47bfd",
   "metadata": {},
   "outputs": [],
   "source": [
    "stationData = spark.read\\\n",
    ".option(\"header\", True)\\\n",
    ".option(\"inferSchema\", True)\\\n",
    ".option(\"timestampFormat\", 'M/d/y')\\\n",
    ".csv(\"stations.csv\")"
   ]
  },
  {
   "cell_type": "code",
   "execution_count": 9,
   "id": "6e987f8c-44c6-44fd-91cb-6a5ab90987c0",
   "metadata": {},
   "outputs": [
    {
     "name": "stdout",
     "output_type": "stream",
     "text": [
      "root\n",
      " |-- id: integer (nullable = true)\n",
      " |-- name: string (nullable = true)\n",
      " |-- lat: double (nullable = true)\n",
      " |-- long: double (nullable = true)\n",
      " |-- dock_count: integer (nullable = true)\n",
      " |-- city: string (nullable = true)\n",
      " |-- installation_date: timestamp (nullable = true)\n",
      "\n"
     ]
    }
   ],
   "source": [
    "stationData.printSchema()"
   ]
  },
  {
   "cell_type": "markdown",
   "id": "03d494d9-552b-4764-8d28-c8fa8534f232",
   "metadata": {
    "tags": []
   },
   "source": [
    "### 1. Найти велосипед с максимальным временем пробега"
   ]
  },
  {
   "cell_type": "code",
   "execution_count": 78,
   "id": "1adb6506-1568-4cc0-aaf6-1d9b869a85a5",
   "metadata": {},
   "outputs": [
    {
     "name": "stdout",
     "output_type": "stream",
     "text": [
      "+------+--------+-------------------+--------------------+----------------+-------------------+----------------+--------------+-------+-----------------+--------+\n",
      "|    id|duration|         start_date|  start_station_name|start_station_id|           end_date|end_station_name|end_station_id|bike_id|subscription_type|zip_code|\n",
      "+------+--------+-------------------+--------------------+----------------+-------------------+----------------+--------------+-------+-----------------+--------+\n",
      "|568474|17270400|2014-12-06 21:59:00|South Van Ness at...|              66|2015-06-24 20:18:00|   2nd at Folsom|            62|    535|         Customer|   95531|\n",
      "+------+--------+-------------------+--------------------+----------------+-------------------+----------------+--------------+-------+-----------------+--------+\n",
      "\n"
     ]
    }
   ],
   "source": [
    "from pyspark.sql.functions import col\n",
    "\n",
    "tripData.orderBy(col(\"duration\").desc()).limit(1).show()"
   ]
  },
  {
   "cell_type": "markdown",
   "id": "56bdb1e7-3811-472d-9871-08850f809915",
   "metadata": {
    "tags": []
   },
   "source": [
    "### 2. Найти наибольшее геодезическое расстояние между станциями"
   ]
  },
  {
   "cell_type": "code",
   "execution_count": 79,
   "id": "470e738d-a3d9-4cbe-b4f3-371ef6d48286",
   "metadata": {},
   "outputs": [
    {
     "name": "stdout",
     "output_type": "stream",
     "text": [
      "Before crossJoin:  70\n",
      "After crossJoin:  4900\n"
     ]
    }
   ],
   "source": [
    "print(\"Before crossJoin: \", stationData.count())\n",
    "joined_stations = stationData.crossJoin(stationData)\n",
    "print(\"After crossJoin: \", joined_stations.count())"
   ]
  },
  {
   "cell_type": "code",
   "execution_count": 80,
   "id": "06896b9b-c69f-44fb-aa0e-cebd00e4b534",
   "metadata": {},
   "outputs": [
    {
     "name": "stdout",
     "output_type": "stream",
     "text": [
      "root\n",
      " |-- id: integer (nullable = true)\n",
      " |-- name: string (nullable = true)\n",
      " |-- lat: double (nullable = true)\n",
      " |-- long: double (nullable = true)\n",
      " |-- dock_count: integer (nullable = true)\n",
      " |-- city: string (nullable = true)\n",
      " |-- installation_date: timestamp (nullable = true)\n",
      " |-- id: integer (nullable = true)\n",
      " |-- name: string (nullable = true)\n",
      " |-- lat: double (nullable = true)\n",
      " |-- long: double (nullable = true)\n",
      " |-- dock_count: integer (nullable = true)\n",
      " |-- city: string (nullable = true)\n",
      " |-- installation_date: timestamp (nullable = true)\n",
      "\n"
     ]
    }
   ],
   "source": [
    "joined_stations.printSchema()"
   ]
  },
  {
   "cell_type": "markdown",
   "id": "201ad64b-3886-4c8c-bfad-4dc689511eb1",
   "metadata": {},
   "source": [
    "Дальше вычисляем расстояние между всеми станциями и выбираем максимальное"
   ]
  },
  {
   "cell_type": "code",
   "execution_count": 103,
   "id": "8ea83df1-c5c5-46c7-a364-c147ecda2cd6",
   "metadata": {},
   "outputs": [
    {
     "name": "stdout",
     "output_type": "stream",
     "text": [
      "Max distance between 2 stations: 69.9428256877473\n"
     ]
    }
   ],
   "source": [
    "from math import sin, cos, sqrt, atan2, radians\n",
    "\n",
    "# радиус земли типо\n",
    "R = 6373.0\n",
    "\n",
    "def computeDistance(lat1, lon1, lat2, lon2):\n",
    "    lat1 = radians(lat1)\n",
    "    lon1 = radians(lon1)\n",
    "    lat2 = radians(lat2)\n",
    "    lon2 = radians(lon2)\n",
    "    \n",
    "    dlon = lon2 - lon1\n",
    "    dlat = lat2 - lat1\n",
    "\n",
    "    a = sin(dlat / 2)**2 + cos(lat1) * cos(lat2) * sin(dlon / 2)**2\n",
    "    c = 2 * atan2(sqrt(a), sqrt(1 - a))\n",
    "\n",
    "    return R * c\n",
    "\n",
    "# x[2] - lat, x[3] - long\n",
    "# x[9] - lat, x[10] - long\n",
    "res = joined_stations.rdd.map(lambda x: computeDistance(x[2], x[3], x[9], x[10])).max()\n",
    "\n",
    "# то же самое получается\n",
    "# res = joined_stations.rdd.map(lambda x: computeDistance(x[2], x[3], x[9], x[10])).reduce(max)\n",
    "print(f\"Max distance between 2 stations: {res}\")"
   ]
  },
  {
   "cell_type": "markdown",
   "id": "bc568fbe-df6a-4d79-9c5d-99ce15b991d3",
   "metadata": {},
   "source": [
    "### 3. Найти путь велосипеда с максимальным временем пробега через станции"
   ]
  },
  {
   "cell_type": "code",
   "execution_count": 99,
   "id": "17b5c43f-cf72-4b2b-a7f0-578b3e7f0296",
   "metadata": {},
   "outputs": [
    {
     "name": "stdout",
     "output_type": "stream",
     "text": [
      "root\n",
      " |-- id: integer (nullable = true)\n",
      " |-- duration: integer (nullable = true)\n",
      " |-- start_date: timestamp (nullable = true)\n",
      " |-- start_station_name: string (nullable = true)\n",
      " |-- start_station_id: integer (nullable = true)\n",
      " |-- end_date: timestamp (nullable = true)\n",
      " |-- end_station_name: string (nullable = true)\n",
      " |-- end_station_id: integer (nullable = true)\n",
      " |-- bike_id: integer (nullable = true)\n",
      " |-- subscription_type: string (nullable = true)\n",
      " |-- zip_code: string (nullable = true)\n",
      " |-- id: integer (nullable = true)\n",
      " |-- name: string (nullable = true)\n",
      " |-- lat: double (nullable = true)\n",
      " |-- long: double (nullable = true)\n",
      " |-- dock_count: integer (nullable = true)\n",
      " |-- city: string (nullable = true)\n",
      " |-- installation_date: timestamp (nullable = true)\n",
      " |-- id2: integer (nullable = true)\n",
      " |-- name2: string (nullable = true)\n",
      " |-- lat2: double (nullable = true)\n",
      " |-- long2: double (nullable = true)\n",
      " |-- dock_count2: integer (nullable = true)\n",
      " |-- city2: string (nullable = true)\n",
      " |-- installation_date2: timestamp (nullable = true)\n",
      "\n"
     ]
    }
   ],
   "source": [
    "second_stationData = stationData.toDF(\"id2\", \"name2\", \"lat2\", \"long2\", \"dock_count2\", \"city2\", \"installation_date2\")\n",
    "trips_join_stations = tripData.crossJoin(stationData.crossJoin(second_stationData)).where(\"start_station_name = name and end_station_name = name2\")\n",
    "trips_join_stations.printSchema()"
   ]
  },
  {
   "cell_type": "code",
   "execution_count": 104,
   "id": "efc73182-e6c4-4d1b-8649-1f6fd0ee1342",
   "metadata": {},
   "outputs": [
    {
     "name": "stdout",
     "output_type": "stream",
     "text": [
      "68.07378146810332\n"
     ]
    }
   ],
   "source": [
    "res = trips_join_stations.rdd.map(lambda x: computeDistance(x[13], x[14], x[20], x[21])).max()\n",
    "print(res) "
   ]
  },
  {
   "cell_type": "markdown",
   "id": "277c5d75-d881-4e9a-ba47-9d669b8e9dbc",
   "metadata": {},
   "source": [
    "### 4. Найти количество велосипедов в системе"
   ]
  },
  {
   "cell_type": "code",
   "execution_count": 108,
   "id": "004ef678-9a1a-4175-88f0-756c62dd2316",
   "metadata": {},
   "outputs": [
    {
     "data": {
      "text/plain": [
       "700"
      ]
     },
     "execution_count": 108,
     "metadata": {},
     "output_type": "execute_result"
    }
   ],
   "source": [
    "tripData.select(\"bike_id\").distinct().count()"
   ]
  },
  {
   "cell_type": "markdown",
   "id": "a7594164-b78c-4df3-9d83-917abad147d8",
   "metadata": {},
   "source": [
    "### 5. Найти пользователей потративших на поездки более 3 часов"
   ]
  },
  {
   "cell_type": "code",
   "execution_count": 123,
   "id": "16848c83-7ec2-4d6e-9b8d-006fe7a92d2a",
   "metadata": {},
   "outputs": [
    {
     "name": "stdout",
     "output_type": "stream",
     "text": [
      "+-------+-------------+\n",
      "|bike_id|sum(duration)|\n",
      "+-------+-------------+\n",
      "|    471|      2504669|\n",
      "|    496|      2492338|\n",
      "|    148|       383620|\n",
      "|    463|      2631994|\n",
      "|    540|      2499857|\n",
      "|    392|      2664633|\n",
      "|    623|      2988761|\n",
      "|    243|       412598|\n",
      "|    516|      2760799|\n",
      "|     31|       587904|\n",
      "|    580|      1072279|\n",
      "|    137|      2238350|\n",
      "|    251|      1660026|\n",
      "|    451|      2461768|\n",
      "|     85|      2287621|\n",
      "|    458|      2286523|\n",
      "|     65|       327963|\n",
      "|    588|       266415|\n",
      "|    255|       477850|\n",
      "|     53|       338860|\n",
      "+-------+-------------+\n",
      "only showing top 20 rows\n",
      "\n"
     ]
    },
    {
     "data": {
      "text/plain": [
       "699"
      ]
     },
     "execution_count": 123,
     "metadata": {},
     "output_type": "execute_result"
    }
   ],
   "source": [
    "# duration - в секундах, поэтому мы 3 часа (180 минут) умножаем на 60\n",
    "res = tripData.groupBy(\"bike_id\").agg({\"duration\": \"sum\"}).where(\"sum(duration) > 180 * 60\")\n",
    "res.show()\n",
    "res.count()"
   ]
  },
  {
   "cell_type": "code",
   "execution_count": null,
   "id": "821fd0ae-414d-4d9a-ac8e-892ce0b488d0",
   "metadata": {},
   "outputs": [],
   "source": []
  }
 ],
 "metadata": {
  "kernelspec": {
   "display_name": "Python 3",
   "language": "python",
   "name": "python3"
  },
  "language_info": {
   "codemirror_mode": {
    "name": "ipython",
    "version": 3
   },
   "file_extension": ".py",
   "mimetype": "text/x-python",
   "name": "python",
   "nbconvert_exporter": "python",
   "pygments_lexer": "ipython3",
   "version": "3.9.5"
  }
 },
 "nbformat": 4,
 "nbformat_minor": 5
}
