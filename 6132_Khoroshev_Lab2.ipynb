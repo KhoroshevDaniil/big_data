{
 "cells": [
  {
   "cell_type": "code",
   "execution_count": 1,
   "id": "6cacc875-6669-47b9-a54a-8493bcdfbf90",
   "metadata": {},
   "outputs": [],
   "source": [
    "from pyspark import SparkContext, SparkConf \n",
    "from pyspark.sql import SparkSession\n",
    "import pyspark.sql as sql\n",
    "import os\n",
    "\n",
    "os.environ['PYSPARK_SUBMIT_ARGS'] = '--packages com.databricks:spark-xml_2.12:0.14.0 pyspark-shell'"
   ]
  },
  {
   "cell_type": "code",
   "execution_count": 2,
   "id": "86b3dc77-c86f-4ec1-86d5-196ec60591f7",
   "metadata": {},
   "outputs": [],
   "source": [
    "conf = SparkConf().setAppName(\"6132_Khoroshev_Lab2\").setMaster('yarn')"
   ]
  },
  {
   "cell_type": "code",
   "execution_count": 3,
   "id": "dfc5f6cd-579e-45c8-8236-0f79ecf05f4c",
   "metadata": {},
   "outputs": [],
   "source": [
    "sc = SparkContext(conf=conf)\n",
    "spark = SparkSession(sc)"
   ]
  },
  {
   "cell_type": "code",
   "execution_count": 4,
   "id": "11f0ea9a-12e8-4e40-9b66-b1bae82461ec",
   "metadata": {},
   "outputs": [],
   "source": [
    "posts_sample = spark.read.format('xml')\\\n",
    ".option('rootTag', 'posts')\\\n",
    ".option('rowTag', 'row')\\\n",
    ".load(\"posts_sample.xml\")"
   ]
  },
  {
   "cell_type": "code",
   "execution_count": 5,
   "id": "9a186d9b-a784-4b22-ae41-903cbf438502",
   "metadata": {},
   "outputs": [
    {
     "name": "stdout",
     "output_type": "stream",
     "text": [
      "root\n",
      " |-- _AcceptedAnswerId: long (nullable = true)\n",
      " |-- _AnswerCount: long (nullable = true)\n",
      " |-- _Body: string (nullable = true)\n",
      " |-- _ClosedDate: timestamp (nullable = true)\n",
      " |-- _CommentCount: long (nullable = true)\n",
      " |-- _CommunityOwnedDate: timestamp (nullable = true)\n",
      " |-- _CreationDate: timestamp (nullable = true)\n",
      " |-- _FavoriteCount: long (nullable = true)\n",
      " |-- _Id: long (nullable = true)\n",
      " |-- _LastActivityDate: timestamp (nullable = true)\n",
      " |-- _LastEditDate: timestamp (nullable = true)\n",
      " |-- _LastEditorDisplayName: string (nullable = true)\n",
      " |-- _LastEditorUserId: long (nullable = true)\n",
      " |-- _OwnerDisplayName: string (nullable = true)\n",
      " |-- _OwnerUserId: long (nullable = true)\n",
      " |-- _ParentId: long (nullable = true)\n",
      " |-- _PostTypeId: long (nullable = true)\n",
      " |-- _Score: long (nullable = true)\n",
      " |-- _Tags: string (nullable = true)\n",
      " |-- _Title: string (nullable = true)\n",
      " |-- _ViewCount: long (nullable = true)\n",
      "\n"
     ]
    }
   ],
   "source": [
    "posts_sample.printSchema()"
   ]
  },
  {
   "cell_type": "markdown",
   "id": "f046abe0-2e30-4604-b89b-3c2493f2f6c7",
   "metadata": {},
   "source": [
    "В поле **_Tags** хранится информация о языках<br/>\n",
    "Из поля **_CreationDate** получаем информацию о дате<br/>\n",
    "По полю **_ViewCount** будем считать популярность языков"
   ]
  },
  {
   "cell_type": "code",
   "execution_count": 6,
   "id": "c5922266-06bb-44b8-8480-5feb0395329b",
   "metadata": {},
   "outputs": [
    {
     "name": "stdout",
     "output_type": "stream",
     "text": [
      "+-----------------------+----------+------------------------------------------------------+\n",
      "|_CreationDate          |_ViewCount|_Tags                                                 |\n",
      "+-----------------------+----------+------------------------------------------------------+\n",
      "|2008-08-01 02:42:52.667|42817     |<c#><floating-point><type-conversion><double><decimal>|\n",
      "|2008-08-01 03:08:08.62 |18214     |<html><css><internet-explorer-7>                      |\n",
      "+-----------------------+----------+------------------------------------------------------+\n",
      "only showing top 2 rows\n",
      "\n"
     ]
    }
   ],
   "source": [
    "posts = posts_sample.select(\"_CreationDate\", \"_ViewCount\", \"_Tags\")\n",
    "posts.show(2, False)"
   ]
  },
  {
   "cell_type": "code",
   "execution_count": 7,
   "id": "5af73944-d9f9-4946-80f5-20d0d95d7814",
   "metadata": {},
   "outputs": [],
   "source": [
    "from pyspark.sql.functions import col"
   ]
  },
  {
   "cell_type": "code",
   "execution_count": 8,
   "id": "27cc3607-66aa-4840-93a5-01ee29f27f78",
   "metadata": {},
   "outputs": [],
   "source": [
    "filtered_posts = posts.filter(\"_Tags is not null\").rdd.map(lambda x: (str(x[0]).split('-')[0], x[1], x[2][1:-1].split(\"><\"))).toDF([\"year\", \"views\", \"languages\"])\n",
    "filtered_posts = filtered_posts.filter(col(\"year\") >= 2010).filter(col(\"year\") <= 2020)"
   ]
  },
  {
   "cell_type": "code",
   "execution_count": 9,
   "id": "4d92bceb-ec7d-4a4b-b236-daf8d4acb3ee",
   "metadata": {},
   "outputs": [
    {
     "name": "stdout",
     "output_type": "stream",
     "text": [
      "+----+-----+---------------------------------------------------------------+\n",
      "|year|views|languages                                                      |\n",
      "+----+-----+---------------------------------------------------------------+\n",
      "|2010|3650 |[c++, character-encoding]                                      |\n",
      "|2010|617  |[sharepoint, infopath]                                         |\n",
      "|2010|1315 |[iphone, app-store, in-app-purchase]                           |\n",
      "|2010|973  |[symfony1, schema, doctrine, fixtures]                         |\n",
      "|2010|132  |[java]                                                         |\n",
      "|2010|419  |[visual-studio-2010, stylecop]                                 |\n",
      "|2010|869  |[cakephp, file-upload, swfupload]                              |\n",
      "|2010|1303 |[git, cygwin, putty]                                           |\n",
      "|2010|748  |[drupal, drupal-6]                                             |\n",
      "|2010|1258 |[php, wordpress, memory]                                       |\n",
      "|2010|14972|[c#, winforms, data-binding, checkedlistbox]                   |\n",
      "|2010|274  |[c#, asp.net, exception-handling]                              |\n",
      "|2010|804  |[sql, xml, blob]                                               |\n",
      "|2010|6019 |[.htaccess, codeigniter]                                       |\n",
      "|2010|5456 |[wcf, web-services, anonymous, basichttpbinding, wshttpbinding]|\n",
      "|2010|316  |[mod-rewrite, apache2]                                         |\n",
      "|2010|15477|[sql, database, default, sybase]                               |\n",
      "|2010|9649 |[ruby, rvm]                                                    |\n",
      "|2010|20199|[android, eclipse]                                             |\n",
      "|2010|735  |[iphone, uiimageview, pinch, image-zoom]                       |\n",
      "+----+-----+---------------------------------------------------------------+\n",
      "only showing top 20 rows\n",
      "\n"
     ]
    }
   ],
   "source": [
    "filtered_posts.show(truncate=False)"
   ]
  },
  {
   "cell_type": "markdown",
   "id": "a15623c4-6ad6-4814-abd2-54ba79ecae1f",
   "metadata": {},
   "source": [
    "Теперь мы третий столбец **languages** распакуем так, чтобы у нас, к примеру, из записи |2010| 599| [c#, c++, java]| получилось 3 новых записи:<br/>\n",
    "|2010| 599| c#  |<br/>\n",
    "|2010| 599| c++ |<br/>\n",
    "|2010| 599| java|<br/>"
   ]
  },
  {
   "cell_type": "code",
   "execution_count": 10,
   "id": "33a3bc38-6ce5-411c-bed2-cd2592ba072d",
   "metadata": {},
   "outputs": [],
   "source": [
    "from pyspark.sql.functions import explode"
   ]
  },
  {
   "cell_type": "code",
   "execution_count": 11,
   "id": "306b0a28-fcbe-487f-9a48-e4ce20ee8ed3",
   "metadata": {},
   "outputs": [
    {
     "name": "stdout",
     "output_type": "stream",
     "text": [
      "+----+-----+------------------+\n",
      "|year|views|          language|\n",
      "+----+-----+------------------+\n",
      "|2010| 3650|               c++|\n",
      "|2010| 3650|character-encoding|\n",
      "|2010|  617|        sharepoint|\n",
      "|2010|  617|          infopath|\n",
      "|2010| 1315|            iphone|\n",
      "|2010| 1315|         app-store|\n",
      "|2010| 1315|   in-app-purchase|\n",
      "|2010|  973|          symfony1|\n",
      "|2010|  973|            schema|\n",
      "|2010|  973|          doctrine|\n",
      "|2010|  973|          fixtures|\n",
      "|2010|  132|              java|\n",
      "|2010|  419|visual-studio-2010|\n",
      "|2010|  419|          stylecop|\n",
      "|2010|  869|           cakephp|\n",
      "|2010|  869|       file-upload|\n",
      "|2010|  869|         swfupload|\n",
      "|2010| 1303|               git|\n",
      "|2010| 1303|            cygwin|\n",
      "|2010| 1303|             putty|\n",
      "+----+-----+------------------+\n",
      "only showing top 20 rows\n",
      "\n"
     ]
    }
   ],
   "source": [
    "exploded_posts = filtered_posts.select(filtered_posts.year, filtered_posts.views, explode(filtered_posts.languages)).withColumnRenamed(\"col\", \"language\") \n",
    "exploded_posts.show()"
   ]
  },
  {
   "cell_type": "code",
   "execution_count": 12,
   "id": "edf38f33-86cd-4128-9215-aa1571291bfa",
   "metadata": {},
   "outputs": [
    {
     "name": "stdout",
     "output_type": "stream",
     "text": [
      "+------------+\n",
      "|        name|\n",
      "+------------+\n",
      "|     a# .net|\n",
      "|  a# (axiom)|\n",
      "|  a-0 system|\n",
      "|          a+|\n",
      "|         a++|\n",
      "|        abap|\n",
      "|         abc|\n",
      "|   abc algol|\n",
      "|       abset|\n",
      "|       absys|\n",
      "|         acc|\n",
      "|      accent|\n",
      "|    ace dasl|\n",
      "|        acl2|\n",
      "|     act-iii|\n",
      "|     action!|\n",
      "|actionscript|\n",
      "|         ada|\n",
      "|     adenine|\n",
      "|        agda|\n",
      "+------------+\n",
      "only showing top 20 rows\n",
      "\n"
     ]
    }
   ],
   "source": [
    "from pyspark.sql.functions import lower\n",
    "\n",
    "languages = spark.read\\\n",
    ".option(\"header\", True)\\\n",
    ".option(\"inferSchema\", True)\\\n",
    ".csv(\"programming-languages.csv\")\n",
    "\n",
    "languages = languages.drop(\"wikipedia_url\")\n",
    "languages = languages.withColumn(\"name\",  lower(\"name\"))\n",
    "\n",
    "languages.show()"
   ]
  },
  {
   "cell_type": "code",
   "execution_count": 13,
   "id": "2df182e9-d6db-47f8-a366-45916807f3ca",
   "metadata": {},
   "outputs": [
    {
     "name": "stdout",
     "output_type": "stream",
     "text": [
      "+----+-----------+----------+\n",
      "|year|   language|sum(views)|\n",
      "+----+-----------+----------+\n",
      "|2013|     erlang|      2302|\n",
      "|2017| typescript|     29031|\n",
      "|2017|        sed|        93|\n",
      "|2013| javascript|    609571|\n",
      "|2013|         f#|      4317|\n",
      "|2012| powershell|     17311|\n",
      "|2019|        php|      3753|\n",
      "|2017|    haskell|      4040|\n",
      "|2013| autohotkey|      4421|\n",
      "|2013|applescript|      2059|\n",
      "|2019|      xpath|        27|\n",
      "|2015|     racket|       762|\n",
      "|2017|         go|      1356|\n",
      "|2018|      perl6|       109|\n",
      "|2015|       dart|       402|\n",
      "|2015|       rust|       117|\n",
      "|2012|         f#|      1222|\n",
      "|2018|     python|     99996|\n",
      "|2017|     prolog|        76|\n",
      "|2016|      latex|       461|\n",
      "+----+-----------+----------+\n",
      "only showing top 20 rows\n",
      "\n"
     ]
    }
   ],
   "source": [
    "exploded_posts = exploded_posts.crossJoin(languages).where(\"language = name\")\n",
    "counted_posts = exploded_posts.groupBy(\"year\", \"language\").agg({\"views\": \"sum\"})\n",
    "counted_posts.show()"
   ]
  },
  {
   "cell_type": "code",
   "execution_count": 14,
   "id": "f78d84ff-8389-4684-a67e-3320095cb0b5",
   "metadata": {},
   "outputs": [
    {
     "name": "stdout",
     "output_type": "stream",
     "text": [
      "+----+-----------+------+----+\n",
      "|year|   language| views|rank|\n",
      "+----+-----------+------+----+\n",
      "|2016| javascript|233802|   1|\n",
      "|2016|     python|219510|   2|\n",
      "|2016|       java|169513|   3|\n",
      "|2016|        php|105849|   4|\n",
      "|2016|          r| 49717|   5|\n",
      "|2016| powershell| 36175|   6|\n",
      "|2016| typescript| 33343|   7|\n",
      "|2016|          c| 17568|   8|\n",
      "|2016|         go| 13062|   9|\n",
      "|2016|       ruby| 12909|  10|\n",
      "|2016|      scala| 11725|  11|\n",
      "|2016|       curl|  9386|  12|\n",
      "|2016|       bash|  7537|  13|\n",
      "|2016|       nasm|  6844|  14|\n",
      "|2016|objective-c|  5722|  15|\n",
      "|2016|     groovy|  4051|  16|\n",
      "|2016|     matlab|  3743|  17|\n",
      "|2016|       chef|  2009|  18|\n",
      "|2016|        awk|  1808|  19|\n",
      "|2016|    haskell|  1631|  20|\n",
      "+----+-----------+------+----+\n",
      "only showing top 20 rows\n",
      "\n"
     ]
    }
   ],
   "source": [
    "from pyspark.sql.window import Window\n",
    "from pyspark.sql.functions import row_number\n",
    "\n",
    "window = Window.partitionBy(counted_posts.year).orderBy(col(\"sum(views)\").desc())\n",
    "tempDF = counted_posts.withColumn(\"rank\", row_number().over(window))\n",
    "tempDF = tempDF.withColumnRenamed(\"sum(views)\", \"views\")\n",
    "tempDF.show()"
   ]
  },
  {
   "cell_type": "code",
   "execution_count": 15,
   "id": "51ddbaa4-02cc-41ba-87b8-e412805b5511",
   "metadata": {},
   "outputs": [
    {
     "name": "stdout",
     "output_type": "stream",
     "text": [
      "+----+-----------+-------+\n",
      "|year|   language|  views|\n",
      "+----+-----------+-------+\n",
      "|2010|        php|1189629|\n",
      "|2010|       java| 563211|\n",
      "|2010| javascript| 316131|\n",
      "|2010|objective-c|  97009|\n",
      "|2010|       ruby|  76215|\n",
      "|2010|          c|  66587|\n",
      "|2010|     python|  60672|\n",
      "|2010|     matlab|  51865|\n",
      "|2010|applescript|  32305|\n",
      "|2010|     delphi|  13065|\n",
      "|2011| javascript| 809078|\n",
      "|2011|       java| 389834|\n",
      "|2011|        php| 246770|\n",
      "|2011|          c| 238277|\n",
      "|2011|objective-c| 218934|\n",
      "|2011|     python| 203180|\n",
      "|2011|       bash|  60805|\n",
      "|2011|       ruby|  39223|\n",
      "|2011|       perl|  28502|\n",
      "|2011|     matlab|  18816|\n",
      "+----+-----------+-------+\n",
      "only showing top 20 rows\n",
      "\n"
     ]
    }
   ],
   "source": [
    "tempDF = tempDF.filter(col(\"rank\") <= 10)\n",
    "result = tempDF.drop(\"rank\")\n",
    "result = result.orderBy(col(\"year\").asc(), col(\"views\").desc())\n",
    "result.show()"
   ]
  },
  {
   "cell_type": "code",
   "execution_count": 17,
   "id": "a5ea38f5-88d1-4837-84a7-c56ee0e36c5d",
   "metadata": {},
   "outputs": [],
   "source": [
    "result.write.mode('overwrite').parquet(\"top_10_languages_per_year_from_2010_to_2020.parquet\")"
   ]
  },
  {
   "cell_type": "code",
   "execution_count": 22,
   "id": "f084d20e-cfbb-4e45-b1f4-e52e1149afa3",
   "metadata": {},
   "outputs": [],
   "source": [
    "!hadoop fs -get \"top_10_languages_per_year_from_2010_to_2020.parquet\"  ."
   ]
  },
  {
   "cell_type": "code",
   "execution_count": 25,
   "id": "ec6477c8-83e4-4835-bee0-a6aca6a418cc",
   "metadata": {},
   "outputs": [
    {
     "name": "stdout",
     "output_type": "stream",
     "text": [
      "6132_Khoroshev_Lab1.ipynb\n",
      "6132_Khoroshev_Lab2.ipynb\n",
      "data\n",
      "L1_interactive_bike_analysis_python_with_dataframes.ipynb\n",
      "L1_interactive_bike_analysis_python_with_rdd.ipynb\n",
      "top_10_languages_per_year_from_2010_to_2020.parquet\n"
     ]
    }
   ],
   "source": [
    "!ls"
   ]
  },
  {
   "cell_type": "code",
   "execution_count": null,
   "id": "e2565b1d-4869-413b-b91f-5f534fe4496d",
   "metadata": {},
   "outputs": [],
   "source": []
  }
 ],
 "metadata": {
  "kernelspec": {
   "display_name": "Python 3",
   "language": "python",
   "name": "python3"
  },
  "language_info": {
   "codemirror_mode": {
    "name": "ipython",
    "version": 3
   },
   "file_extension": ".py",
   "mimetype": "text/x-python",
   "name": "python",
   "nbconvert_exporter": "python",
   "pygments_lexer": "ipython3",
   "version": "3.9.5"
  }
 },
 "nbformat": 4,
 "nbformat_minor": 5
}
